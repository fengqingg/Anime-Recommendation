{
 "cells": [
  {
   "attachments": {},
   "cell_type": "markdown",
   "metadata": {},
   "source": [
    "# Anime recommendation system\n",
    "\n",
    "Greetings anime enthusiasts! As a relatively new fan of anime, I find myself overwhelmed with the sheer number of anime titles available to watch. With limited time on my hands, I need a way to narrow down my options and discover the best anime that align with my interests. To solve this problem, I embarked on a project to build an anime recommendation system.\n",
    "\n",
    "In this notebook, I'll take you on my journey of creating a personalized anime recommendation system using Kaggle's anime recommendation dataset. Through various algorithms and techniques, I'll demonstrate how my model can suggest anime titles based on my viewing history and preferences.\n",
    "\n",
    "So, whether you're a seasoned anime fan trying to catch up on the latest titles, or a newbie like me trying to discover the best anime out there, join me in exploring the exciting world of anime recommendation systems.\n",
    "\n",
    "## Table of Contents\n",
    "\n",
    "* [Introduction](#section-one)\n",
    "    - [Loading of dataset](#subsection-one)\n",
    "* [Exploratory Data Analysis](#section-two)\n",
    "    - [Exploration of data](#subsection-two)\n",
    "    - [Analysis of data](#subsection-three)\n",
    "* [Recommendation System](#section-three)\n",
    "    - [Content Based Filtering ](#subsection-four)\n",
    "    - [Collaborative Filtering ](#subsection-five)\n",
    "* [Conclusion](#section-four)"
   ]
  },
  {
   "attachments": {},
   "cell_type": "markdown",
   "metadata": {},
   "source": [
    "<a class=\"anchor\" id=\"section-one\"></a>\n",
    "## Introduction\n",
    "\n",
    "The anime recommendations database is a comprehensive dataset that contains information on user preference data from 73,516 users on 12,294 anime. Each user is able to add anime to their completed list and give it a rating and this data set is a compilation of those ratings.\n",
    "\n",
    "Anime.csv\n",
    "\n",
    "**anime_id** - myanimelist.net's unique id identifying an anime.\\\n",
    "**name** - full name of anime.\\\n",
    "**genre** - comma separated list of genres for this anime.\\\n",
    "**type** - movie, TV, OVA, etc.\\\n",
    "**episodes** - how many episodes in this show. (1 if movie).\\\n",
    "**rating** - average rating out of 10 for this anime.\\\n",
    "**members** - number of community members that are in this anime's \"group\".\n",
    "\n",
    "Rating.csv\n",
    "\n",
    "**user_id** - non identifiable randomly generated user id.\\\n",
    "**anime_id** - the anime that this user has rated.\\\n",
    "**rating** - rating out of 10 this user has assigned (-1 if the user watched it but didn't assign a rating).\n"
   ]
  },
  {
   "attachments": {},
   "cell_type": "markdown",
   "metadata": {},
   "source": [
    "<a class=\"anchor\" id=\"subsection-one\"></a>\n",
    "### Load data and importing libraries"
   ]
  },
  {
   "cell_type": "code",
   "execution_count": null,
   "metadata": {},
   "outputs": [],
   "source": []
  },
  {
   "cell_type": "code",
   "execution_count": 1,
   "metadata": {
    "_cell_guid": "b1076dfc-b9ad-4769-8c92-a6c4dae69d19",
    "_uuid": "8f2839f25d086af736a60e9eeb907d3b93b6e0e5",
    "execution": {
     "iopub.execute_input": "2023-04-24T07:40:01.049814Z",
     "iopub.status.busy": "2023-04-24T07:40:01.049024Z",
     "iopub.status.idle": "2023-04-24T07:40:02.532126Z",
     "shell.execute_reply": "2023-04-24T07:40:02.530765Z",
     "shell.execute_reply.started": "2023-04-24T07:40:01.049773Z"
    }
   },
   "outputs": [],
   "source": [
    "# Data analysis\n",
    "import numpy as np \n",
    "import pandas as pd \n",
    "\n",
    "# Visualization of data\n",
    "import seaborn as sns\n",
    "import matplotlib.pyplot as plt\n",
    "%matplotlib inline\n",
    "\n",
    "# Modeling\n",
    "from sklearn.feature_extraction.text import TfidfVectorizer\n",
    "from sklearn.metrics.pairwise import cosine_similarity"
   ]
  },
  {
   "cell_type": "code",
   "execution_count": 2,
   "metadata": {
    "execution": {
     "iopub.execute_input": "2023-04-24T07:40:02.535042Z",
     "iopub.status.busy": "2023-04-24T07:40:02.534466Z",
     "iopub.status.idle": "2023-04-24T07:40:06.143435Z",
     "shell.execute_reply": "2023-04-24T07:40:06.142378Z",
     "shell.execute_reply.started": "2023-04-24T07:40:02.534988Z"
    }
   },
   "outputs": [],
   "source": [
    "# Loading anime.csv and rating.csv\n",
    "anime = pd.read_csv('anime.csv')\n",
    "rating = pd.read_csv('rating.csv')"
   ]
  },
  {
   "attachments": {},
   "cell_type": "markdown",
   "metadata": {},
   "source": [
    "<a class=\"anchor\" id=\"section-two\"></a>\n",
    "## Exploratory Data Analysis (EDA)\n",
    "\n",
    "<a class=\"anchor\" id=\"subsection-two\"></a>\n",
    "### Exploration of data\n",
    "Let's first explore the anime dataset"
   ]
  },
  {
   "cell_type": "code",
   "execution_count": 3,
   "metadata": {
    "execution": {
     "iopub.execute_input": "2023-04-24T07:40:06.145133Z",
     "iopub.status.busy": "2023-04-24T07:40:06.144724Z",
     "iopub.status.idle": "2023-04-24T07:40:06.176472Z",
     "shell.execute_reply": "2023-04-24T07:40:06.175625Z",
     "shell.execute_reply.started": "2023-04-24T07:40:06.145089Z"
    }
   },
   "outputs": [
    {
     "data": {
      "text/html": [
       "<div>\n",
       "<style scoped>\n",
       "    .dataframe tbody tr th:only-of-type {\n",
       "        vertical-align: middle;\n",
       "    }\n",
       "\n",
       "    .dataframe tbody tr th {\n",
       "        vertical-align: top;\n",
       "    }\n",
       "\n",
       "    .dataframe thead th {\n",
       "        text-align: right;\n",
       "    }\n",
       "</style>\n",
       "<table border=\"1\" class=\"dataframe\">\n",
       "  <thead>\n",
       "    <tr style=\"text-align: right;\">\n",
       "      <th></th>\n",
       "      <th>anime_id</th>\n",
       "      <th>name</th>\n",
       "      <th>genre</th>\n",
       "      <th>type</th>\n",
       "      <th>episodes</th>\n",
       "      <th>rating</th>\n",
       "      <th>members</th>\n",
       "    </tr>\n",
       "  </thead>\n",
       "  <tbody>\n",
       "    <tr>\n",
       "      <th>0</th>\n",
       "      <td>32281</td>\n",
       "      <td>Kimi no Na wa.</td>\n",
       "      <td>Drama, Romance, School, Supernatural</td>\n",
       "      <td>Movie</td>\n",
       "      <td>1</td>\n",
       "      <td>9.37</td>\n",
       "      <td>200630</td>\n",
       "    </tr>\n",
       "    <tr>\n",
       "      <th>1</th>\n",
       "      <td>5114</td>\n",
       "      <td>Fullmetal Alchemist: Brotherhood</td>\n",
       "      <td>Action, Adventure, Drama, Fantasy, Magic, Mili...</td>\n",
       "      <td>TV</td>\n",
       "      <td>64</td>\n",
       "      <td>9.26</td>\n",
       "      <td>793665</td>\n",
       "    </tr>\n",
       "    <tr>\n",
       "      <th>2</th>\n",
       "      <td>28977</td>\n",
       "      <td>Gintama°</td>\n",
       "      <td>Action, Comedy, Historical, Parody, Samurai, S...</td>\n",
       "      <td>TV</td>\n",
       "      <td>51</td>\n",
       "      <td>9.25</td>\n",
       "      <td>114262</td>\n",
       "    </tr>\n",
       "    <tr>\n",
       "      <th>3</th>\n",
       "      <td>9253</td>\n",
       "      <td>Steins;Gate</td>\n",
       "      <td>Sci-Fi, Thriller</td>\n",
       "      <td>TV</td>\n",
       "      <td>24</td>\n",
       "      <td>9.17</td>\n",
       "      <td>673572</td>\n",
       "    </tr>\n",
       "    <tr>\n",
       "      <th>4</th>\n",
       "      <td>9969</td>\n",
       "      <td>Gintama&amp;#039;</td>\n",
       "      <td>Action, Comedy, Historical, Parody, Samurai, S...</td>\n",
       "      <td>TV</td>\n",
       "      <td>51</td>\n",
       "      <td>9.16</td>\n",
       "      <td>151266</td>\n",
       "    </tr>\n",
       "  </tbody>\n",
       "</table>\n",
       "</div>"
      ],
      "text/plain": [
       "   anime_id                              name  \\\n",
       "0     32281                    Kimi no Na wa.   \n",
       "1      5114  Fullmetal Alchemist: Brotherhood   \n",
       "2     28977                          Gintama°   \n",
       "3      9253                       Steins;Gate   \n",
       "4      9969                     Gintama&#039;   \n",
       "\n",
       "                                               genre   type episodes  rating  \\\n",
       "0               Drama, Romance, School, Supernatural  Movie        1    9.37   \n",
       "1  Action, Adventure, Drama, Fantasy, Magic, Mili...     TV       64    9.26   \n",
       "2  Action, Comedy, Historical, Parody, Samurai, S...     TV       51    9.25   \n",
       "3                                   Sci-Fi, Thriller     TV       24    9.17   \n",
       "4  Action, Comedy, Historical, Parody, Samurai, S...     TV       51    9.16   \n",
       "\n",
       "   members  \n",
       "0   200630  \n",
       "1   793665  \n",
       "2   114262  \n",
       "3   673572  \n",
       "4   151266  "
      ]
     },
     "execution_count": 3,
     "metadata": {},
     "output_type": "execute_result"
    }
   ],
   "source": [
    "anime.head()"
   ]
  },
  {
   "cell_type": "code",
   "execution_count": 4,
   "metadata": {
    "execution": {
     "iopub.execute_input": "2023-04-24T07:40:06.178899Z",
     "iopub.status.busy": "2023-04-24T07:40:06.178523Z",
     "iopub.status.idle": "2023-04-24T07:40:06.206842Z",
     "shell.execute_reply": "2023-04-24T07:40:06.205625Z",
     "shell.execute_reply.started": "2023-04-24T07:40:06.178864Z"
    }
   },
   "outputs": [
    {
     "name": "stdout",
     "output_type": "stream",
     "text": [
      "<class 'pandas.core.frame.DataFrame'>\n",
      "RangeIndex: 12294 entries, 0 to 12293\n",
      "Data columns (total 7 columns):\n",
      " #   Column    Non-Null Count  Dtype  \n",
      "---  ------    --------------  -----  \n",
      " 0   anime_id  12294 non-null  int64  \n",
      " 1   name      12294 non-null  object \n",
      " 2   genre     12232 non-null  object \n",
      " 3   type      12269 non-null  object \n",
      " 4   episodes  12294 non-null  object \n",
      " 5   rating    12064 non-null  float64\n",
      " 6   members   12294 non-null  int64  \n",
      "dtypes: float64(1), int64(2), object(4)\n",
      "memory usage: 672.5+ KB\n"
     ]
    }
   ],
   "source": [
    "anime.info()"
   ]
  },
  {
   "cell_type": "code",
   "execution_count": 5,
   "metadata": {
    "execution": {
     "iopub.execute_input": "2023-04-24T07:40:06.208341Z",
     "iopub.status.busy": "2023-04-24T07:40:06.208033Z",
     "iopub.status.idle": "2023-04-24T07:40:06.236960Z",
     "shell.execute_reply": "2023-04-24T07:40:06.235702Z",
     "shell.execute_reply.started": "2023-04-24T07:40:06.208309Z"
    }
   },
   "outputs": [
    {
     "data": {
      "text/html": [
       "<div>\n",
       "<style scoped>\n",
       "    .dataframe tbody tr th:only-of-type {\n",
       "        vertical-align: middle;\n",
       "    }\n",
       "\n",
       "    .dataframe tbody tr th {\n",
       "        vertical-align: top;\n",
       "    }\n",
       "\n",
       "    .dataframe thead th {\n",
       "        text-align: right;\n",
       "    }\n",
       "</style>\n",
       "<table border=\"1\" class=\"dataframe\">\n",
       "  <thead>\n",
       "    <tr style=\"text-align: right;\">\n",
       "      <th></th>\n",
       "      <th>anime_id</th>\n",
       "      <th>rating</th>\n",
       "      <th>members</th>\n",
       "    </tr>\n",
       "  </thead>\n",
       "  <tbody>\n",
       "    <tr>\n",
       "      <th>count</th>\n",
       "      <td>12294.000000</td>\n",
       "      <td>12064.000000</td>\n",
       "      <td>1.229400e+04</td>\n",
       "    </tr>\n",
       "    <tr>\n",
       "      <th>mean</th>\n",
       "      <td>14058.221653</td>\n",
       "      <td>6.473902</td>\n",
       "      <td>1.807134e+04</td>\n",
       "    </tr>\n",
       "    <tr>\n",
       "      <th>std</th>\n",
       "      <td>11455.294701</td>\n",
       "      <td>1.026746</td>\n",
       "      <td>5.482068e+04</td>\n",
       "    </tr>\n",
       "    <tr>\n",
       "      <th>min</th>\n",
       "      <td>1.000000</td>\n",
       "      <td>1.670000</td>\n",
       "      <td>5.000000e+00</td>\n",
       "    </tr>\n",
       "    <tr>\n",
       "      <th>25%</th>\n",
       "      <td>3484.250000</td>\n",
       "      <td>5.880000</td>\n",
       "      <td>2.250000e+02</td>\n",
       "    </tr>\n",
       "    <tr>\n",
       "      <th>50%</th>\n",
       "      <td>10260.500000</td>\n",
       "      <td>6.570000</td>\n",
       "      <td>1.550000e+03</td>\n",
       "    </tr>\n",
       "    <tr>\n",
       "      <th>75%</th>\n",
       "      <td>24794.500000</td>\n",
       "      <td>7.180000</td>\n",
       "      <td>9.437000e+03</td>\n",
       "    </tr>\n",
       "    <tr>\n",
       "      <th>max</th>\n",
       "      <td>34527.000000</td>\n",
       "      <td>10.000000</td>\n",
       "      <td>1.013917e+06</td>\n",
       "    </tr>\n",
       "  </tbody>\n",
       "</table>\n",
       "</div>"
      ],
      "text/plain": [
       "           anime_id        rating       members\n",
       "count  12294.000000  12064.000000  1.229400e+04\n",
       "mean   14058.221653      6.473902  1.807134e+04\n",
       "std    11455.294701      1.026746  5.482068e+04\n",
       "min        1.000000      1.670000  5.000000e+00\n",
       "25%     3484.250000      5.880000  2.250000e+02\n",
       "50%    10260.500000      6.570000  1.550000e+03\n",
       "75%    24794.500000      7.180000  9.437000e+03\n",
       "max    34527.000000     10.000000  1.013917e+06"
      ]
     },
     "execution_count": 5,
     "metadata": {},
     "output_type": "execute_result"
    }
   ],
   "source": [
    "anime.describe()"
   ]
  },
  {
   "cell_type": "code",
   "execution_count": 6,
   "metadata": {
    "execution": {
     "iopub.execute_input": "2023-04-24T07:40:06.238587Z",
     "iopub.status.busy": "2023-04-24T07:40:06.238255Z",
     "iopub.status.idle": "2023-04-24T07:40:06.271839Z",
     "shell.execute_reply": "2023-04-24T07:40:06.270690Z",
     "shell.execute_reply.started": "2023-04-24T07:40:06.238555Z"
    }
   },
   "outputs": [
    {
     "data": {
      "text/html": [
       "<div>\n",
       "<style scoped>\n",
       "    .dataframe tbody tr th:only-of-type {\n",
       "        vertical-align: middle;\n",
       "    }\n",
       "\n",
       "    .dataframe tbody tr th {\n",
       "        vertical-align: top;\n",
       "    }\n",
       "\n",
       "    .dataframe thead th {\n",
       "        text-align: right;\n",
       "    }\n",
       "</style>\n",
       "<table border=\"1\" class=\"dataframe\">\n",
       "  <thead>\n",
       "    <tr style=\"text-align: right;\">\n",
       "      <th></th>\n",
       "      <th>name</th>\n",
       "      <th>genre</th>\n",
       "      <th>type</th>\n",
       "      <th>episodes</th>\n",
       "    </tr>\n",
       "  </thead>\n",
       "  <tbody>\n",
       "    <tr>\n",
       "      <th>count</th>\n",
       "      <td>12294</td>\n",
       "      <td>12232</td>\n",
       "      <td>12269</td>\n",
       "      <td>12294</td>\n",
       "    </tr>\n",
       "    <tr>\n",
       "      <th>unique</th>\n",
       "      <td>12292</td>\n",
       "      <td>3264</td>\n",
       "      <td>6</td>\n",
       "      <td>187</td>\n",
       "    </tr>\n",
       "    <tr>\n",
       "      <th>top</th>\n",
       "      <td>Shi Wan Ge Leng Xiaohua</td>\n",
       "      <td>Hentai</td>\n",
       "      <td>TV</td>\n",
       "      <td>1</td>\n",
       "    </tr>\n",
       "    <tr>\n",
       "      <th>freq</th>\n",
       "      <td>2</td>\n",
       "      <td>823</td>\n",
       "      <td>3787</td>\n",
       "      <td>5677</td>\n",
       "    </tr>\n",
       "  </tbody>\n",
       "</table>\n",
       "</div>"
      ],
      "text/plain": [
       "                           name   genre   type episodes\n",
       "count                     12294   12232  12269    12294\n",
       "unique                    12292    3264      6      187\n",
       "top     Shi Wan Ge Leng Xiaohua  Hentai     TV        1\n",
       "freq                          2     823   3787     5677"
      ]
     },
     "execution_count": 6,
     "metadata": {},
     "output_type": "execute_result"
    }
   ],
   "source": [
    "anime.describe(include=['O'])"
   ]
  },
  {
   "cell_type": "markdown",
   "metadata": {},
   "source": [
    "It is noted that **genre**, **type**, and **rating** has null values.\\\n",
    "Now lets take a look at the rating dataset"
   ]
  },
  {
   "cell_type": "code",
   "execution_count": 7,
   "metadata": {
    "execution": {
     "iopub.execute_input": "2023-04-24T07:40:06.273870Z",
     "iopub.status.busy": "2023-04-24T07:40:06.273358Z",
     "iopub.status.idle": "2023-04-24T07:40:06.284528Z",
     "shell.execute_reply": "2023-04-24T07:40:06.283324Z",
     "shell.execute_reply.started": "2023-04-24T07:40:06.273823Z"
    }
   },
   "outputs": [
    {
     "data": {
      "text/html": [
       "<div>\n",
       "<style scoped>\n",
       "    .dataframe tbody tr th:only-of-type {\n",
       "        vertical-align: middle;\n",
       "    }\n",
       "\n",
       "    .dataframe tbody tr th {\n",
       "        vertical-align: top;\n",
       "    }\n",
       "\n",
       "    .dataframe thead th {\n",
       "        text-align: right;\n",
       "    }\n",
       "</style>\n",
       "<table border=\"1\" class=\"dataframe\">\n",
       "  <thead>\n",
       "    <tr style=\"text-align: right;\">\n",
       "      <th></th>\n",
       "      <th>user_id</th>\n",
       "      <th>anime_id</th>\n",
       "      <th>rating</th>\n",
       "    </tr>\n",
       "  </thead>\n",
       "  <tbody>\n",
       "    <tr>\n",
       "      <th>0</th>\n",
       "      <td>1</td>\n",
       "      <td>20</td>\n",
       "      <td>-1</td>\n",
       "    </tr>\n",
       "    <tr>\n",
       "      <th>1</th>\n",
       "      <td>1</td>\n",
       "      <td>24</td>\n",
       "      <td>-1</td>\n",
       "    </tr>\n",
       "    <tr>\n",
       "      <th>2</th>\n",
       "      <td>1</td>\n",
       "      <td>79</td>\n",
       "      <td>-1</td>\n",
       "    </tr>\n",
       "    <tr>\n",
       "      <th>3</th>\n",
       "      <td>1</td>\n",
       "      <td>226</td>\n",
       "      <td>-1</td>\n",
       "    </tr>\n",
       "    <tr>\n",
       "      <th>4</th>\n",
       "      <td>1</td>\n",
       "      <td>241</td>\n",
       "      <td>-1</td>\n",
       "    </tr>\n",
       "  </tbody>\n",
       "</table>\n",
       "</div>"
      ],
      "text/plain": [
       "   user_id  anime_id  rating\n",
       "0        1        20      -1\n",
       "1        1        24      -1\n",
       "2        1        79      -1\n",
       "3        1       226      -1\n",
       "4        1       241      -1"
      ]
     },
     "execution_count": 7,
     "metadata": {},
     "output_type": "execute_result"
    }
   ],
   "source": [
    "rating.head()"
   ]
  },
  {
   "cell_type": "code",
   "execution_count": 8,
   "metadata": {
    "execution": {
     "iopub.execute_input": "2023-04-24T07:40:06.286843Z",
     "iopub.status.busy": "2023-04-24T07:40:06.286269Z",
     "iopub.status.idle": "2023-04-24T07:40:06.300821Z",
     "shell.execute_reply": "2023-04-24T07:40:06.299599Z",
     "shell.execute_reply.started": "2023-04-24T07:40:06.286796Z"
    }
   },
   "outputs": [
    {
     "name": "stdout",
     "output_type": "stream",
     "text": [
      "<class 'pandas.core.frame.DataFrame'>\n",
      "RangeIndex: 7813737 entries, 0 to 7813736\n",
      "Data columns (total 3 columns):\n",
      " #   Column    Dtype\n",
      "---  ------    -----\n",
      " 0   user_id   int64\n",
      " 1   anime_id  int64\n",
      " 2   rating    int64\n",
      "dtypes: int64(3)\n",
      "memory usage: 178.8 MB\n"
     ]
    }
   ],
   "source": [
    "rating.info()"
   ]
  },
  {
   "cell_type": "code",
   "execution_count": 9,
   "metadata": {
    "execution": {
     "iopub.execute_input": "2023-04-24T07:40:06.303177Z",
     "iopub.status.busy": "2023-04-24T07:40:06.302620Z",
     "iopub.status.idle": "2023-04-24T07:40:07.049562Z",
     "shell.execute_reply": "2023-04-24T07:40:07.047742Z",
     "shell.execute_reply.started": "2023-04-24T07:40:06.303124Z"
    }
   },
   "outputs": [
    {
     "data": {
      "text/html": [
       "<div>\n",
       "<style scoped>\n",
       "    .dataframe tbody tr th:only-of-type {\n",
       "        vertical-align: middle;\n",
       "    }\n",
       "\n",
       "    .dataframe tbody tr th {\n",
       "        vertical-align: top;\n",
       "    }\n",
       "\n",
       "    .dataframe thead th {\n",
       "        text-align: right;\n",
       "    }\n",
       "</style>\n",
       "<table border=\"1\" class=\"dataframe\">\n",
       "  <thead>\n",
       "    <tr style=\"text-align: right;\">\n",
       "      <th></th>\n",
       "      <th>user_id</th>\n",
       "      <th>anime_id</th>\n",
       "      <th>rating</th>\n",
       "    </tr>\n",
       "  </thead>\n",
       "  <tbody>\n",
       "    <tr>\n",
       "      <th>count</th>\n",
       "      <td>7.813737e+06</td>\n",
       "      <td>7.813737e+06</td>\n",
       "      <td>7.813737e+06</td>\n",
       "    </tr>\n",
       "    <tr>\n",
       "      <th>mean</th>\n",
       "      <td>3.672796e+04</td>\n",
       "      <td>8.909072e+03</td>\n",
       "      <td>6.144030e+00</td>\n",
       "    </tr>\n",
       "    <tr>\n",
       "      <th>std</th>\n",
       "      <td>2.099795e+04</td>\n",
       "      <td>8.883950e+03</td>\n",
       "      <td>3.727800e+00</td>\n",
       "    </tr>\n",
       "    <tr>\n",
       "      <th>min</th>\n",
       "      <td>1.000000e+00</td>\n",
       "      <td>1.000000e+00</td>\n",
       "      <td>-1.000000e+00</td>\n",
       "    </tr>\n",
       "    <tr>\n",
       "      <th>25%</th>\n",
       "      <td>1.897400e+04</td>\n",
       "      <td>1.240000e+03</td>\n",
       "      <td>6.000000e+00</td>\n",
       "    </tr>\n",
       "    <tr>\n",
       "      <th>50%</th>\n",
       "      <td>3.679100e+04</td>\n",
       "      <td>6.213000e+03</td>\n",
       "      <td>7.000000e+00</td>\n",
       "    </tr>\n",
       "    <tr>\n",
       "      <th>75%</th>\n",
       "      <td>5.475700e+04</td>\n",
       "      <td>1.409300e+04</td>\n",
       "      <td>9.000000e+00</td>\n",
       "    </tr>\n",
       "    <tr>\n",
       "      <th>max</th>\n",
       "      <td>7.351600e+04</td>\n",
       "      <td>3.451900e+04</td>\n",
       "      <td>1.000000e+01</td>\n",
       "    </tr>\n",
       "  </tbody>\n",
       "</table>\n",
       "</div>"
      ],
      "text/plain": [
       "            user_id      anime_id        rating\n",
       "count  7.813737e+06  7.813737e+06  7.813737e+06\n",
       "mean   3.672796e+04  8.909072e+03  6.144030e+00\n",
       "std    2.099795e+04  8.883950e+03  3.727800e+00\n",
       "min    1.000000e+00  1.000000e+00 -1.000000e+00\n",
       "25%    1.897400e+04  1.240000e+03  6.000000e+00\n",
       "50%    3.679100e+04  6.213000e+03  7.000000e+00\n",
       "75%    5.475700e+04  1.409300e+04  9.000000e+00\n",
       "max    7.351600e+04  3.451900e+04  1.000000e+01"
      ]
     },
     "execution_count": 9,
     "metadata": {},
     "output_type": "execute_result"
    }
   ],
   "source": [
    "rating.describe()"
   ]
  },
  {
   "cell_type": "markdown",
   "metadata": {},
   "source": [
    "Since there is no proper way to impute missing values of genre, type and rating. We will drop the rows of null values in the anime dataset"
   ]
  },
  {
   "cell_type": "code",
   "execution_count": 10,
   "metadata": {
    "execution": {
     "iopub.execute_input": "2023-04-24T07:40:07.053801Z",
     "iopub.status.busy": "2023-04-24T07:40:07.053413Z",
     "iopub.status.idle": "2023-04-24T07:40:07.078371Z",
     "shell.execute_reply": "2023-04-24T07:40:07.077157Z",
     "shell.execute_reply.started": "2023-04-24T07:40:07.053766Z"
    }
   },
   "outputs": [
    {
     "name": "stdout",
     "output_type": "stream",
     "text": [
      "<class 'pandas.core.frame.DataFrame'>\n",
      "Int64Index: 12017 entries, 0 to 12293\n",
      "Data columns (total 7 columns):\n",
      " #   Column    Non-Null Count  Dtype  \n",
      "---  ------    --------------  -----  \n",
      " 0   anime_id  12017 non-null  int64  \n",
      " 1   name      12017 non-null  object \n",
      " 2   genre     12017 non-null  object \n",
      " 3   type      12017 non-null  object \n",
      " 4   episodes  12017 non-null  object \n",
      " 5   rating    12017 non-null  float64\n",
      " 6   members   12017 non-null  int64  \n",
      "dtypes: float64(1), int64(2), object(4)\n",
      "memory usage: 751.1+ KB\n"
     ]
    }
   ],
   "source": [
    "anime.dropna(inplace=True)\n",
    "anime.info()"
   ]
  },
  {
   "attachments": {},
   "cell_type": "markdown",
   "metadata": {},
   "source": [
    "<a class=\"anchor\" id=\"subsection-three\"></a>\n",
    "### Analysis of data\n",
    "\n",
    "Now let us take a look at each column and see what we can find out about each anime"
   ]
  },
  {
   "cell_type": "markdown",
   "metadata": {},
   "source": [
    "#### Top 10 anime of all time\n",
    "\n",
    "Upon researching, myanimelist ranks their animes based on weighted score rather than the actual rating which can be calculated as follows:\n",
    "\n",
    "$$ Weighted Score = \\frac {S*v} {v+m} + \\frac {Cm} {v+m} $$\n",
    "\n",
    "S = Average score for the anime\\\n",
    "v = Number of valid users giving a score for the anime\n",
    "m = Minimum number of scored users required to get a calculated score\n",
    "C = The mean across the entire anime database\n",
    "\n",
    "Thus we can't use the rating to rank the anime. Luckily, the anime dataset came in the weighted score ranking and we can just use it to plot the top 10 animes of all time."
   ]
  },
  {
   "cell_type": "code",
   "execution_count": 11,
   "metadata": {
    "execution": {
     "iopub.execute_input": "2023-04-24T07:40:07.081086Z",
     "iopub.status.busy": "2023-04-24T07:40:07.080425Z",
     "iopub.status.idle": "2023-04-24T07:40:07.449911Z",
     "shell.execute_reply": "2023-04-24T07:40:07.449015Z",
     "shell.execute_reply.started": "2023-04-24T07:40:07.081030Z"
    }
   },
   "outputs": [
    {
     "data": {
      "image/png": "[encoded data removed]",
      "text/plain": [
       "<Figure size 432x288 with 1 Axes>"
      ]
     },
     "metadata": {
      "needs_background": "light"
     },
     "output_type": "display_data"
    }
   ],
   "source": [
    "# Get top 10 animes\n",
    "dfplot = anime.head(10)\n",
    "\n",
    "# Barplot with name with y as rating\n",
    "sns.barplot(data=dfplot,x='name',y='rating')\n",
    "\n",
    "# Set the plot \n",
    "plt.xticks(rotation=90)\n",
    "plt.title('Top 10 anime of all time from Myanimelist')\n",
    "plt.yticks(np.arange(1,11))\n",
    "plt.xlabel('Name of anime')\n",
    "plt.ylabel('Ratings')\n",
    "\n",
    "# Add labels to the bars\n",
    "for index, row in dfplot.iterrows():\n",
    "    plt.text(index, row['rating'], str(row['rating']), ha='center', va='bottom')\n",
    "\n",
    "\n",
    "plt.show()"
   ]
  },
  {
   "cell_type": "markdown",
   "metadata": {},
   "source": [
    "#### Genre distribution"
   ]
  },
  {
   "cell_type": "code",
   "execution_count": 12,
   "metadata": {
    "execution": {
     "iopub.execute_input": "2023-04-24T07:40:07.451974Z",
     "iopub.status.busy": "2023-04-24T07:40:07.451349Z",
     "iopub.status.idle": "2023-04-24T07:40:08.010478Z",
     "shell.execute_reply": "2023-04-24T07:40:08.008777Z",
     "shell.execute_reply.started": "2023-04-24T07:40:07.451938Z"
    }
   },
   "outputs": [
    {
     "data": {
      "image/png": "[encoded data removed]",
      "text/plain": [
       "<Figure size 432x288 with 1 Axes>"
      ]
     },
     "metadata": {},
     "output_type": "display_data"
    }
   ],
   "source": [
    "anime_df = anime.copy()\n",
    "\n",
    "# Split the comma-separated genres into a list of strings and assign to a new column\n",
    "anime_df['genres_list'] = anime_df['genre'].str.split(',')\n",
    "\n",
    "# Explode the list of genres into separate rows, duplicating the other columns as necessary\n",
    "anime_df = anime_df.explode('genres_list')\n",
    "genre = anime_df.value_counts('genres_list')\n",
    "\n",
    "# Get top 10 genres \n",
    "new_labels = ['']*len(genre)\n",
    "new_labels[:11] = genre.index[:11]\n",
    "new_labels\n",
    "\n",
    "# Plot piechart\n",
    "plt.pie(genre,labels=new_labels)\n",
    "plt.title('Piechart of genre')\n",
    "plt.show()"
   ]
  },
  {
   "cell_type": "markdown",
   "metadata": {},
   "source": [
    "#### Type category distribution"
   ]
  },
  {
   "cell_type": "code",
   "execution_count": 13,
   "metadata": {
    "execution": {
     "iopub.execute_input": "2023-04-24T07:40:08.014996Z",
     "iopub.status.busy": "2023-04-24T07:40:08.012632Z",
     "iopub.status.idle": "2023-04-24T07:40:08.170993Z",
     "shell.execute_reply": "2023-04-24T07:40:08.169610Z",
     "shell.execute_reply.started": "2023-04-24T07:40:08.014917Z"
    }
   },
   "outputs": [
    {
     "data": {
      "image/png": "[encoded data removed]",
      "text/plain": [
       "<Figure size 432x288 with 1 Axes>"
      ]
     },
     "metadata": {},
     "output_type": "display_data"
    }
   ],
   "source": [
    "# Count the number of unique type\n",
    "types = anime.type.value_counts()\n",
    "\n",
    "# Plot piechart of types\n",
    "plt.pie(types,labels=types.index,autopct='%.1f%%')\n",
    "plt.title('Piechart of anime type ')\n",
    "plt.show()"
   ]
  },
  {
   "cell_type": "code",
   "execution_count": 14,
   "metadata": {
    "execution": {
     "iopub.execute_input": "2023-04-24T07:40:08.173116Z",
     "iopub.status.busy": "2023-04-24T07:40:08.172729Z",
     "iopub.status.idle": "2023-04-24T07:40:08.344247Z",
     "shell.execute_reply": "2023-04-24T07:40:08.343056Z",
     "shell.execute_reply.started": "2023-04-24T07:40:08.173080Z"
    }
   },
   "outputs": [
    {
     "data": {
      "image/png": "[encoded data removed]",
      "text/plain": [
       "<Figure size 432x288 with 1 Axes>"
      ]
     },
     "metadata": {
      "needs_background": "light"
     },
     "output_type": "display_data"
    }
   ],
   "source": [
    "# Plot the count of type\n",
    "sns.countplot(data=anime,x='type')\n",
    "\n",
    "# Set the plot\n",
    "plt.title('Distribution of anime type')\n",
    "plt.xlabel('Type of anime')\n",
    "plt.ylabel('Count of anime')\n",
    "plt.show()"
   ]
  },
  {
   "cell_type": "markdown",
   "metadata": {},
   "source": [
    "#### Episodes"
   ]
  },
  {
   "cell_type": "code",
   "execution_count": 15,
   "metadata": {
    "execution": {
     "iopub.execute_input": "2023-04-24T07:40:08.346699Z",
     "iopub.status.busy": "2023-04-24T07:40:08.345992Z",
     "iopub.status.idle": "2023-04-24T07:40:08.562997Z",
     "shell.execute_reply": "2023-04-24T07:40:08.561755Z",
     "shell.execute_reply.started": "2023-04-24T07:40:08.346643Z"
    }
   },
   "outputs": [
    {
     "data": {
      "image/png": "[encoded data removed]",
      "text/plain": [
       "<Figure size 432x288 with 1 Axes>"
      ]
     },
     "metadata": {
      "needs_background": "light"
     },
     "output_type": "display_data"
    }
   ],
   "source": [
    "# Get top 10 number of episodes\n",
    "ep = anime.episodes.value_counts().head(10)\n",
    "\n",
    "# Barplot the number of episodes with counts\n",
    "sns.barplot(x=ep.index,y=ep.values)\n",
    "\n",
    "# Set the plot\n",
    "plt.title('Top 10 common number of episodes')\n",
    "plt.xlabel('Number of episodes')\n",
    "plt.ylabel('Number of animes')\n",
    "\n",
    "# Add the label on the barchart\n",
    "for i,v in enumerate(ep):\n",
    "    plt.text(i,v,str(v),ha='center',va='bottom')\n",
    "    \n",
    "plt.show()"
   ]
  },
  {
   "cell_type": "markdown",
   "metadata": {},
   "source": [
    "#### Rating distribution"
   ]
  },
  {
   "cell_type": "code",
   "execution_count": 16,
   "metadata": {
    "execution": {
     "iopub.execute_input": "2023-04-24T07:40:08.564710Z",
     "iopub.status.busy": "2023-04-24T07:40:08.564368Z",
     "iopub.status.idle": "2023-04-24T07:40:09.160162Z",
     "shell.execute_reply": "2023-04-24T07:40:09.158891Z",
     "shell.execute_reply.started": "2023-04-24T07:40:08.564676Z"
    }
   },
   "outputs": [
    {
     "data": {
      "image/png": "[encoded data removed]",
      "text/plain": [
       "<Figure size 432x288 with 1 Axes>"
      ]
     },
     "metadata": {
      "needs_background": "light"
     },
     "output_type": "display_data"
    }
   ],
   "source": [
    "# Plot histogram of ratings for anime\n",
    "sns.histplot(data=anime,x='rating',kde=True)\n",
    "plt.xticks(np.arange(0,11))\n",
    "plt.show()"
   ]
  },
  {
   "cell_type": "markdown",
   "metadata": {},
   "source": [
    "#### Top 10 anime fanbase based on members"
   ]
  },
  {
   "cell_type": "code",
   "execution_count": 17,
   "metadata": {
    "execution": {
     "iopub.execute_input": "2023-04-24T07:40:09.162419Z",
     "iopub.status.busy": "2023-04-24T07:40:09.162081Z",
     "iopub.status.idle": "2023-04-24T07:40:09.479010Z",
     "shell.execute_reply": "2023-04-24T07:40:09.478168Z",
     "shell.execute_reply.started": "2023-04-24T07:40:09.162384Z"
    }
   },
   "outputs": [
    {
     "data": {
      "image/png": "[encoded data removed]",
      "text/plain": [
       "<Figure size 432x288 with 1 Axes>"
      ]
     },
     "metadata": {
      "needs_background": "light"
     },
     "output_type": "display_data"
    }
   ],
   "source": [
    "# Sort anime by members and get the top 10\n",
    "dfplot = anime.sort_values('members',ascending=False).head(10)\n",
    "dfplot.reset_index(inplace=True)\n",
    "\n",
    "# Barplot dfplot with name and members\n",
    "sns.barplot(data=dfplot, x='name', y='members')\n",
    "\n",
    "# Set the plot\n",
    "plt.xticks(rotation=90)\n",
    "plt.title('Top 10 fanbase based on members')\n",
    "plt.xlabel('Name of anime')\n",
    "plt.ylabel('Number of members')\n",
    "\n",
    "# Plot the number of members on the barchart\n",
    "for index, value in dfplot.iterrows():\n",
    "    plt.text(index,value['members']/2,str(value['members']),ha=\"center\",rotation=90)\n",
    "\n",
    "plt.show()"
   ]
  },
  {
   "cell_type": "markdown",
   "metadata": {},
   "source": [
    "#### Rating csv"
   ]
  },
  {
   "cell_type": "code",
   "execution_count": 18,
   "metadata": {
    "execution": {
     "iopub.execute_input": "2023-04-24T07:40:09.480925Z",
     "iopub.status.busy": "2023-04-24T07:40:09.480212Z",
     "iopub.status.idle": "2023-04-24T07:40:10.417839Z",
     "shell.execute_reply": "2023-04-24T07:40:10.416617Z",
     "shell.execute_reply.started": "2023-04-24T07:40:09.480890Z"
    }
   },
   "outputs": [
    {
     "data": {
      "image/png": "[encoded data removed]",
      "text/plain": [
       "<Figure size 432x288 with 1 Axes>"
      ]
     },
     "metadata": {
      "needs_background": "light"
     },
     "output_type": "display_data"
    }
   ],
   "source": [
    "# Count plot of ratings in rating.csv\n",
    "sns.countplot(data=rating,x='rating')\n",
    "\n",
    "# Set the plot\n",
    "plt.title('Countplot of ratings')\n",
    "plt.xlabel('Rating')\n",
    "plt.ylabel('Count')\n",
    "plt.show()"
   ]
  },
  {
   "attachments": {},
   "cell_type": "markdown",
   "metadata": {},
   "source": [
    "<a class=\"anchor\" id=\"section-three\"></a>\n",
    "## Recommendation system"
   ]
  },
  {
   "attachments": {},
   "cell_type": "markdown",
   "metadata": {},
   "source": [
    "<a class=\"anchor\" id=\"subsection-four\"></a>\n",
    "\n",
    "### Content-Based Filtering (CBF)\n",
    "\n",
    "**Content-Based Filtering** is a type of recommendation system that uses the characteristics or features of items (in this case, anime) to recommend similar items to users. CBF works by first analyzing the content of each anime to extract features such as the anime's genre, studio, or rating. Then, it builds a model that can predict how likely a user is to enjoy an anime based on these features.\n",
    "\n",
    "For the anime dataset, we can use CBF to recommend anime to users based on the genres of anime they have previously enjoyed. Specifically, we can use the TF-IDF (Term Frequency-Inverse Document Frequency) vectorizer to convert the list of genres for each anime into a feature matrix. TF-IDF is a statistical method that reflects the importance of each term (in our case, each genre) in a corpus of documents (in our case, the set of all anime). It accounts for the frequency of each term in each document (anime) as well as the frequency of each term across all documents (anime) to compute a weight that reflects the importance of each term in distinguishing one document (anime) from another.\n",
    "\n",
    "Using the TF-IDF feature matrix, we can then use the cosine similarity metric to compute the similarity between each pair of anime based on their genre features. Finally, we can recommend anime to a user based on their previously watched anime and the anime that are most similar to those they have enjoyed."
   ]
  },
  {
   "cell_type": "markdown",
   "metadata": {},
   "source": [
    "Since I am only interested in watching TV series, I will remove those that are not in this category."
   ]
  },
  {
   "cell_type": "code",
   "execution_count": 19,
   "metadata": {},
   "outputs": [],
   "source": [
    "anime = anime.loc[anime['type']=='TV']\n",
    "anime.reset_index(drop=True, inplace=True)"
   ]
  },
  {
   "cell_type": "code",
   "execution_count": 20,
   "metadata": {
    "execution": {
     "iopub.execute_input": "2023-04-24T07:40:11.601347Z",
     "iopub.status.busy": "2023-04-24T07:40:11.600991Z",
     "iopub.status.idle": "2023-04-24T07:40:11.935678Z",
     "shell.execute_reply": "2023-04-24T07:40:11.934334Z",
     "shell.execute_reply.started": "2023-04-24T07:40:11.601310Z"
    }
   },
   "outputs": [
    {
     "data": {
      "text/html": [
       "<div>\n",
       "<style scoped>\n",
       "    .dataframe tbody tr th:only-of-type {\n",
       "        vertical-align: middle;\n",
       "    }\n",
       "\n",
       "    .dataframe tbody tr th {\n",
       "        vertical-align: top;\n",
       "    }\n",
       "\n",
       "    .dataframe thead th {\n",
       "        text-align: right;\n",
       "    }\n",
       "</style>\n",
       "<table border=\"1\" class=\"dataframe\">\n",
       "  <thead>\n",
       "    <tr style=\"text-align: right;\">\n",
       "      <th></th>\n",
       "      <th>anime_id</th>\n",
       "      <th>name</th>\n",
       "      <th>genre</th>\n",
       "      <th>type</th>\n",
       "      <th>episodes</th>\n",
       "      <th>rating</th>\n",
       "      <th>members</th>\n",
       "    </tr>\n",
       "  </thead>\n",
       "  <tbody>\n",
       "    <tr>\n",
       "      <th>230</th>\n",
       "      <td>17265</td>\n",
       "      <td>Log Horizon</td>\n",
       "      <td>[Action,  Adventure,  Fantasy,  Game,  Magic, ...</td>\n",
       "      <td>TV</td>\n",
       "      <td>25</td>\n",
       "      <td>8.14</td>\n",
       "      <td>387100</td>\n",
       "    </tr>\n",
       "    <tr>\n",
       "      <th>281</th>\n",
       "      <td>29803</td>\n",
       "      <td>Overlord</td>\n",
       "      <td>[Action,  Adventure,  Fantasy,  Game,  Magic, ...</td>\n",
       "      <td>TV</td>\n",
       "      <td>13</td>\n",
       "      <td>8.04</td>\n",
       "      <td>244268</td>\n",
       "    </tr>\n",
       "    <tr>\n",
       "      <th>614</th>\n",
       "      <td>23321</td>\n",
       "      <td>Log Horizon 2nd Season</td>\n",
       "      <td>[Action,  Adventure,  Fantasy,  Game,  Magic, ...</td>\n",
       "      <td>TV</td>\n",
       "      <td>25</td>\n",
       "      <td>7.66</td>\n",
       "      <td>215817</td>\n",
       "    </tr>\n",
       "    <tr>\n",
       "      <th>675</th>\n",
       "      <td>21639</td>\n",
       "      <td>Yu☆Gi☆Oh! Arc-V</td>\n",
       "      <td>[Action,  Fantasy,  Game,  Shounen]</td>\n",
       "      <td>TV</td>\n",
       "      <td>Unknown</td>\n",
       "      <td>7.61</td>\n",
       "      <td>17571</td>\n",
       "    </tr>\n",
       "    <tr>\n",
       "      <th>1077</th>\n",
       "      <td>21881</td>\n",
       "      <td>Sword Art Online II</td>\n",
       "      <td>[Action,  Adventure,  Fantasy,  Game,  Romance]</td>\n",
       "      <td>TV</td>\n",
       "      <td>24</td>\n",
       "      <td>7.35</td>\n",
       "      <td>537892</td>\n",
       "    </tr>\n",
       "  </tbody>\n",
       "</table>\n",
       "</div>"
      ],
      "text/plain": [
       "      anime_id                    name  \\\n",
       "230      17265             Log Horizon   \n",
       "281      29803                Overlord   \n",
       "614      23321  Log Horizon 2nd Season   \n",
       "675      21639         Yu☆Gi☆Oh! Arc-V   \n",
       "1077     21881     Sword Art Online II   \n",
       "\n",
       "                                                  genre type episodes  rating  \\\n",
       "230   [Action,  Adventure,  Fantasy,  Game,  Magic, ...   TV       25    8.14   \n",
       "281   [Action,  Adventure,  Fantasy,  Game,  Magic, ...   TV       13    8.04   \n",
       "614   [Action,  Adventure,  Fantasy,  Game,  Magic, ...   TV       25    7.66   \n",
       "675                 [Action,  Fantasy,  Game,  Shounen]   TV  Unknown    7.61   \n",
       "1077    [Action,  Adventure,  Fantasy,  Game,  Romance]   TV       24    7.35   \n",
       "\n",
       "      members  \n",
       "230    387100  \n",
       "281    244268  \n",
       "614    215817  \n",
       "675     17571  \n",
       "1077   537892  "
      ]
     },
     "execution_count": 20,
     "metadata": {},
     "output_type": "execute_result"
    }
   ],
   "source": [
    "# Convert the \"genre\" column to a list of strings\n",
    "anime['genre'] = anime['genre'].fillna('').apply(lambda x: x.split(','))\n",
    "\n",
    "# Create a TF-IDF matrix from the \"genre\" column\n",
    "tfidf = TfidfVectorizer(analyzer=lambda x: x)\n",
    "tfidf_matrix = tfidf.fit_transform(anime['genre'])\n",
    "\n",
    "# Compute the cosine similarity matrix\n",
    "cosine_sim = cosine_similarity(tfidf_matrix, tfidf_matrix)\n",
    "\n",
    "# Define a function that takes an anime title as input and outputs the top 10 most similar anime titles\n",
    "indices = pd.Series(anime.index, index=anime['name'])\n",
    "\n",
    "def get_recommendations(title,num_recommendations=5):\n",
    "    index = indices[title]\n",
    "\n",
    "    sim_scores = list(enumerate(cosine_sim[index]))\n",
    "    sim_scores = sorted(sim_scores, key=lambda x: x[1], reverse=True)\n",
    "    sim_scores = sim_scores[1:11]\n",
    "\n",
    "    anime_indices = [i[0] for i in sim_scores]\n",
    "    return anime.loc[anime.index.isin(anime_indices)].head(num_recommendations)\n",
    "\n",
    "#     return anime['name'].iloc[anime_indices]\n",
    "\n",
    "# Example usage\n",
    "get_recommendations('Sword Art Online',5)"
   ]
  },
  {
   "attachments": {},
   "cell_type": "markdown",
   "metadata": {},
   "source": [
    "<a class=\"anchor\" id=\"subsection-five\"></a>\n",
    "\n",
    "### User-Based Collaborative Filtering (UBCF)\n",
    "\n",
    "**User-Based Collaborative Filtering** is a popular technique for building recommendation systems that suggest items to users based on their similarity to other users. The approach works by analyzing the past behavior of users and identifying those with similar preferences.\n",
    "\n",
    "To determine the similarity between two users, UBCF typically uses a similarity metric such as cosine similarity or Pearson correlation coefficient. These metrics measure the similarity of users' preferences and can be used to determine the users who are most similar to each other.\n",
    "\n",
    "Once UBCF identifies the similar users, it then recommends items to the target user that the similar users have enjoyed. For instance, if user A has similar preferences to user B, and user B enjoyed watching a particular movie, then UBCF may recommend that movie to user A. UBCF is based on the assumption that users who have enjoyed similar items in the past are likely to enjoy similar items in the future. As such, it is an effective approach for building personalized recommendation systems that provide relevant suggestions to each user."
   ]
  },
  {
   "cell_type": "code",
   "execution_count": 21,
   "metadata": {},
   "outputs": [],
   "source": [
    "# Filter the anime dataset to include only the most popular anime\n",
    "anime_counts = rating.groupby('anime_id')['user_id'].count()\n",
    "popular_anime_ids = anime_counts[anime_counts >= 1000].index\n",
    "anime = anime[anime['anime_id'].isin(popular_anime_ids)]\n",
    "\n",
    "# Filter the rating dataset to include only users who have rated at least 150 anime\n",
    "user_counts = rating.groupby('user_id')['anime_id'].count()\n",
    "active_user_ids = user_counts[user_counts >= 150].index\n",
    "rating = rating[rating['user_id'].isin(active_user_ids)]\n"
   ]
  },
  {
   "cell_type": "code",
   "execution_count": 22,
   "metadata": {},
   "outputs": [
    {
     "name": "stdout",
     "output_type": "stream",
     "text": [
      "<class 'pandas.core.frame.DataFrame'>\n",
      "Int64Index: 3005260 entries, 0 to 3005259\n",
      "Data columns (total 9 columns):\n",
      " #   Column        Dtype  \n",
      "---  ------        -----  \n",
      " 0   anime_id      int64  \n",
      " 1   name          object \n",
      " 2   genre         object \n",
      " 3   type          object \n",
      " 4   episodes      object \n",
      " 5   rating_anime  float64\n",
      " 6   members       int64  \n",
      " 7   user_id       int64  \n",
      " 8   rating_user   int64  \n",
      "dtypes: float64(1), int64(4), object(4)\n",
      "memory usage: 229.3+ MB\n"
     ]
    }
   ],
   "source": [
    "# Merge the anime and rating dataset\n",
    "merged_df = anime.merge(rating, on='anime_id', how='left', suffixes=('_anime', '_user'))\n",
    "merged_df.info()"
   ]
  },
  {
   "cell_type": "code",
   "execution_count": 23,
   "metadata": {},
   "outputs": [
    {
     "name": "stdout",
     "output_type": "stream",
     "text": [
      "<class 'pandas.core.frame.DataFrame'>\n",
      "RangeIndex: 2473925 entries, 0 to 2473924\n",
      "Data columns (total 9 columns):\n",
      " #   Column        Dtype  \n",
      "---  ------        -----  \n",
      " 0   anime_id      int64  \n",
      " 1   name          object \n",
      " 2   genre         object \n",
      " 3   type          object \n",
      " 4   episodes      object \n",
      " 5   rating_anime  float64\n",
      " 6   members       int64  \n",
      " 7   user_id       int64  \n",
      " 8   rating_user   int64  \n",
      "dtypes: float64(1), int64(4), object(4)\n",
      "memory usage: 169.9+ MB\n"
     ]
    }
   ],
   "source": [
    "# Final data preprocessing by removing rating = -1 and not TV type\n",
    "merged_df = merged_df.loc[merged_df['rating_user']!=-1]\n",
    "merged_df = merged_df.loc[merged_df['type']=='TV']\n",
    "merged_df.reset_index(drop=True,inplace=True)\n",
    "merged_df.info()"
   ]
  },
  {
   "cell_type": "code",
   "execution_count": 24,
   "metadata": {
    "execution": {
     "iopub.execute_input": "2023-04-24T07:40:11.937391Z",
     "iopub.status.busy": "2023-04-24T07:40:11.937052Z",
     "iopub.status.idle": "2023-04-24T07:40:11.943972Z",
     "shell.execute_reply": "2023-04-24T07:40:11.942718Z",
     "shell.execute_reply.started": "2023-04-24T07:40:11.937356Z"
    }
   },
   "outputs": [
    {
     "data": {
      "text/html": [
       "<div>\n",
       "<style scoped>\n",
       "    .dataframe tbody tr th:only-of-type {\n",
       "        vertical-align: middle;\n",
       "    }\n",
       "\n",
       "    .dataframe tbody tr th {\n",
       "        vertical-align: top;\n",
       "    }\n",
       "\n",
       "    .dataframe thead th {\n",
       "        text-align: right;\n",
       "    }\n",
       "</style>\n",
       "<table border=\"1\" class=\"dataframe\">\n",
       "  <thead>\n",
       "    <tr style=\"text-align: right;\">\n",
       "      <th></th>\n",
       "      <th>anime_id</th>\n",
       "      <th>name</th>\n",
       "      <th>genre</th>\n",
       "      <th>type</th>\n",
       "      <th>episodes</th>\n",
       "      <th>rating</th>\n",
       "      <th>members</th>\n",
       "    </tr>\n",
       "  </thead>\n",
       "  <tbody>\n",
       "    <tr>\n",
       "      <th>0</th>\n",
       "      <td>5114</td>\n",
       "      <td>Fullmetal Alchemist: Brotherhood</td>\n",
       "      <td>[Action,  Adventure,  Drama,  Fantasy,  Magic,...</td>\n",
       "      <td>TV</td>\n",
       "      <td>64</td>\n",
       "      <td>9.26</td>\n",
       "      <td>793665</td>\n",
       "    </tr>\n",
       "    <tr>\n",
       "      <th>1</th>\n",
       "      <td>28977</td>\n",
       "      <td>Gintama°</td>\n",
       "      <td>[Action,  Comedy,  Historical,  Parody,  Samur...</td>\n",
       "      <td>TV</td>\n",
       "      <td>51</td>\n",
       "      <td>9.25</td>\n",
       "      <td>114262</td>\n",
       "    </tr>\n",
       "    <tr>\n",
       "      <th>2</th>\n",
       "      <td>9253</td>\n",
       "      <td>Steins;Gate</td>\n",
       "      <td>[Sci-Fi,  Thriller]</td>\n",
       "      <td>TV</td>\n",
       "      <td>24</td>\n",
       "      <td>9.17</td>\n",
       "      <td>673572</td>\n",
       "    </tr>\n",
       "    <tr>\n",
       "      <th>3</th>\n",
       "      <td>9969</td>\n",
       "      <td>Gintama&amp;#039;</td>\n",
       "      <td>[Action,  Comedy,  Historical,  Parody,  Samur...</td>\n",
       "      <td>TV</td>\n",
       "      <td>51</td>\n",
       "      <td>9.16</td>\n",
       "      <td>151266</td>\n",
       "    </tr>\n",
       "    <tr>\n",
       "      <th>4</th>\n",
       "      <td>32935</td>\n",
       "      <td>Haikyuu!!: Karasuno Koukou VS Shiratorizawa Ga...</td>\n",
       "      <td>[Comedy,  Drama,  School,  Shounen,  Sports]</td>\n",
       "      <td>TV</td>\n",
       "      <td>10</td>\n",
       "      <td>9.15</td>\n",
       "      <td>93351</td>\n",
       "    </tr>\n",
       "  </tbody>\n",
       "</table>\n",
       "</div>"
      ],
      "text/plain": [
       "   anime_id                                               name  \\\n",
       "0      5114                   Fullmetal Alchemist: Brotherhood   \n",
       "1     28977                                           Gintama°   \n",
       "2      9253                                        Steins;Gate   \n",
       "3      9969                                      Gintama&#039;   \n",
       "4     32935  Haikyuu!!: Karasuno Koukou VS Shiratorizawa Ga...   \n",
       "\n",
       "                                               genre type episodes  rating  \\\n",
       "0  [Action,  Adventure,  Drama,  Fantasy,  Magic,...   TV       64    9.26   \n",
       "1  [Action,  Comedy,  Historical,  Parody,  Samur...   TV       51    9.25   \n",
       "2                                [Sci-Fi,  Thriller]   TV       24    9.17   \n",
       "3  [Action,  Comedy,  Historical,  Parody,  Samur...   TV       51    9.16   \n",
       "4       [Comedy,  Drama,  School,  Shounen,  Sports]   TV       10    9.15   \n",
       "\n",
       "   members  \n",
       "0   793665  \n",
       "1   114262  \n",
       "2   673572  \n",
       "3   151266  \n",
       "4    93351  "
      ]
     },
     "execution_count": 24,
     "metadata": {},
     "output_type": "execute_result"
    }
   ],
   "source": [
    "# Create a pivot table of user-item ratings\n",
    "user_item_matrix = merged_df.pivot_table(index = \"user_id\", columns = \"anime_id\", values = \"rating_user\")\n",
    "\n",
    "def get_recommendation_cf(user_id,num_recommendations=5):\n",
    "    \n",
    "    # Select the ratings of the target user from the user-item matrix\n",
    "    user_df = user_item_matrix[user_item_matrix.index == user_id]\n",
    "    \n",
    "    # Identify the anime shows that the target user has rated, and create a new dataframe\n",
    "    # containing the ratings of all users who have rated those same anime shows\n",
    "    movies_watched = user_df.columns[user_df.notna().any()].tolist()\n",
    "    movies_watched_df = user_item_matrix[movies_watched]\n",
    "    \n",
    "    # Compute the number of anime shows that each user in the movies_watched_df dataframe has rated\n",
    "    user_movie_count = movies_watched_df.T.notnull().sum()\n",
    "    \n",
    "    # Create a new dataframe that contains the user IDs and the number of anime shows each user has rated\n",
    "    user_movie_count = user_movie_count.reset_index()\n",
    "    user_movie_count.columns = [\"user_id\", \"movie_count\"]\n",
    "    \n",
    "    # Select the users who have rated at least 80% of the same anime shows as the target user\n",
    "    users_same_movies = user_movie_count[user_movie_count[\"movie_count\"] > 0.8*len(movies_watched)]\n",
    "    \n",
    "    # Combine the ratings of the similar users with the ratings of the target user\n",
    "    final_df = pd.concat([movies_watched_df[movies_watched_df.index.isin(users_same_movies[\"user_id\"].values)],user_df[movies_watched]])\n",
    "    \n",
    "    # Compute the Pearson correlation coefficient between the rating patterns of the users in final_df\n",
    "    corr_df = final_df.T.corr().unstack().sort_values().drop_duplicates()\n",
    "    \n",
    "    # Convert the correlation dataframe to a new dataframe with columns \"user_id_1\", \"user_id_2\", and \"corr\"\n",
    "    corr_df = pd.DataFrame(corr_df, columns = [\"corr\"])\n",
    "    corr_df.index.names = [\"user_id_1\", \"user_id_2\"]\n",
    "    corr_df = corr_df.reset_index()\n",
    "    \n",
    "    # Select the top users who have a correlation coefficient greater than 0.5\n",
    "    top_users= corr_df[corr_df[\"corr\"] > 0.50]\n",
    "    top_users = top_users.assign(user_id=top_users[\"user_id_2\"]).drop(columns=[\"user_id_2\"])\n",
    "    \n",
    "    # Merge the ratings of the top users with the anime show IDs and names\n",
    "    top_users_rating = top_users.merge(rating[[\"user_id\", \"anime_id\", \"rating\"]], how = \"inner\")\n",
    "    \n",
    "    # Compute the weighted rating of each anime show using the correlation coefficient and rating of each user\n",
    "    top_users_rating[\"weighted_rating\"] = top_users_rating[\"corr\"] * top_users_rating[\"rating\"]\n",
    "    \n",
    "    # Group the anime shows by ID and compute the mean weighted rating for each anime show\n",
    "    recommendation_df = top_users_rating.groupby(\"anime_id\").agg({\"weighted_rating\": \"mean\"})\n",
    "    recommendation_df = recommendation_df.reset_index()\n",
    "\n",
    "    # Select the top-rated anime shows with a weighted rating greater than 5.5\n",
    "    movies_to_be_recommend = recommendation_df[recommendation_df[\"weighted_rating\"] > 5.5].sort_values(\"weighted_rating\", ascending = False)\n",
    "\n",
    "    # Merge the anime show IDs and names, and select the top recommended anime shows\n",
    "    movies_to_be_recommend.merge(anime[[\"anime_id\", \"name\"]])\n",
    "    top = anime[anime[\"anime_id\"].isin(movies_to_be_recommend[\"anime_id\"])].head(num_recommendations)\n",
    "\n",
    "    return(top)\n",
    "    \n",
    "    \n",
    "\n",
    "get_recommendation_cf(1)\n"
   ]
  },
  {
   "attachments": {},
   "cell_type": "markdown",
   "metadata": {},
   "source": [
    "<a class=\"anchor\" id=\"section-four\"></a>\n",
    "### Conclusion\n",
    "\n",
    "In this notebook, we have seen how we can use features of the item to recommend similar items through CBF, and also using similar users preferences to recommend the particular user on other items through CF. However, we see the CF has its limitations as if the user does not have any history with the item, it is not possible to use CF and can only recommend until the user interacts with the items. \n",
    "\n",
    "There are a lot other recommendation system to try such as a hybrid system and also neural networks that can learn the user activities and recommend the product to them."
   ]
  },
  {
   "cell_type": "markdown",
   "metadata": {},
   "source": []
  }
 ],
 "metadata": {
  "kernelspec": {
   "display_name": "Python 3 (ipykernel)",
   "language": "python",
   "name": "python3"
  },
  "language_info": {
   "codemirror_mode": {
    "name": "ipython",
    "version": 3
   },
   "file_extension": ".py",
   "mimetype": "text/x-python",
   "name": "python",
   "nbconvert_exporter": "python",
   "pygments_lexer": "ipython3",
   "version": "3.9.12"
  }
 },
 "nbformat": 4,
 "nbformat_minor": 4
}
